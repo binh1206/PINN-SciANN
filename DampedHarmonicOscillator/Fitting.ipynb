{
  "nbformat": 4,
  "nbformat_minor": 0,
  "metadata": {
    "colab": {
      "private_outputs": true,
      "provenance": [],
      "authorship_tag": "ABX9TyO7fz4irAnZkKsDBkZ3/iLS",
      "include_colab_link": true
    },
    "kernelspec": {
      "name": "python3",
      "display_name": "Python 3"
    },
    "language_info": {
      "name": "python"
    }
  },
  "cells": [
    {
      "cell_type": "markdown",
      "metadata": {
        "id": "view-in-github",
        "colab_type": "text"
      },
      "source": [
        "<a href=\"https://colab.research.google.com/github/binh1206/PINN-SciANN/blob/main/DampedHarmonicOscillator/Fitting.ipynb\" target=\"_parent\"><img src=\"https://colab.research.google.com/assets/colab-badge.svg\" alt=\"Open In Colab\"/></a>"
      ]
    },
    {
      "cell_type": "code",
      "execution_count": null,
      "metadata": {
        "id": "8lNptea5ziM1"
      },
      "outputs": [],
      "source": [
        "!pip install tensorflow==2.10 keras==2.10 sciann\n",
        "!pip install -q condacolab"
      ]
    },
    {
      "cell_type": "code",
      "source": [
        "import condacolab\n",
        "condacolab.install ()\n",
        "!conda config --add channels conda-forge\n",
        "!conda install -c conda-forge cudatoolkit =11.2 cudnn =8.1.0"
      ],
      "metadata": {
        "id": "t5WqKH0b4uSw"
      },
      "execution_count": null,
      "outputs": []
    },
    {
      "cell_type": "code",
      "source": [
        "import numpy as np\n",
        "import matplotlib.pyplot as plt\n",
        "import sciann as sn\n",
        "from sciann.utils.math import diff, sign, sin"
      ],
      "metadata": {
        "id": "mg0hhRql0VKg"
      },
      "execution_count": null,
      "outputs": []
    },
    {
      "cell_type": "code",
      "source": [
        "w0 = 20\n",
        "sigma = 2 # under-damped: sigma < w0\n",
        "w = np.sqrt(w0**2 - sigma**2)\n",
        "phi = np.arctan(-(0 + sigma)/w)\n",
        "A = 1/(2* np.cos(phi))\n",
        "def func_x(t):\n",
        " return np.exp(-sigma*t)*2*A*np.cos(w*t+phi)\n",
        "t_data = np.linspace(0 ,1 ,15) # 15 cap (t,x)\n",
        "x_data = func_x( t_data )"
      ],
      "metadata": {
        "id": "VsXhAE6q0c3c"
      },
      "execution_count": null,
      "outputs": []
    },
    {
      "cell_type": "code",
      "source": [
        "t = sn.Variable('t') # dau vao\n",
        "x = sn.Field('x') # dau ra\n",
        "x = sn.Functional(\n",
        "      fields =[x],\n",
        "      variables =[t],\n",
        "      hidden_layers =8*[20] ,\n",
        "      activation ='cos')"
      ],
      "metadata": {
        "id": "VYj6g5eI2dz4"
      },
      "execution_count": null,
      "outputs": []
    },
    {
      "cell_type": "code",
      "source": [
        "d = sn.Data (x) # target\n",
        "m = sn.SciModel([t], [d], loss_func='mse', optimizer='adam')\n",
        "h = m.train (\n",
        "    [t_data],\n",
        "    [x_data],\n",
        "    epochs =5000 ,\n",
        "    adaptive_weights =100 ,\n",
        "    learning_rate =1e-3,\n",
        "    batch_size =50 ,\n",
        "    verbose =1)\n",
        "\n",
        "# ve do thi Loss vs Epoch\n",
        "plt.semilogy(h.history ['loss'])\n",
        "plt.xlabel('Epoch')\n",
        "plt.ylabel('Loss')\n",
        "plt.show()"
      ],
      "metadata": {
        "id": "PLhY8iXF23na"
      },
      "execution_count": null,
      "outputs": []
    },
    {
      "cell_type": "code",
      "source": [
        "t_pred = np.linspace (0 ,2 ,1000) # mien thoi gian cho du doan\n",
        "x_pred = x. eval([t_pred]) #x du doan\n",
        "plt.plot(t_pred, x_pred, label='SciANN prediction')\n",
        "plt.scatter(t_data, x_data, label='Datapoint')\n",
        "t_plot = np.linspace(0 ,2 ,1000)\n",
        "x_plot = func_x( t_plot )\n",
        "plt.plot(t_plot, x_plot, label ='Exact solution')\n",
        "plt.xlabel('$t~[s]$')\n",
        "plt.ylabel('$x~[m]$')\n",
        "plt.legend()\n",
        "plt.show()"
      ],
      "metadata": {
        "id": "62THOwO34FG2"
      },
      "execution_count": null,
      "outputs": []
    }
  ]
}