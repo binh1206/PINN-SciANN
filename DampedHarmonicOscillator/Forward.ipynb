{
  "nbformat": 4,
  "nbformat_minor": 0,
  "metadata": {
    "colab": {
      "private_outputs": true,
      "provenance": [],
      "gpuType": "T4",
      "authorship_tag": "ABX9TyP2Xagfzd6KOtdlj2+Vwn9T",
      "include_colab_link": true
    },
    "kernelspec": {
      "name": "python3",
      "display_name": "Python 3"
    },
    "language_info": {
      "name": "python"
    },
    "accelerator": "GPU"
  },
  "cells": [
    {
      "cell_type": "markdown",
      "metadata": {
        "id": "view-in-github",
        "colab_type": "text"
      },
      "source": [
        "<a href=\"https://colab.research.google.com/github/binh1206/PINN-SciANN/blob/main/DampedHarmonicOscillator/Forward.ipynb\" target=\"_parent\"><img src=\"https://colab.research.google.com/assets/colab-badge.svg\" alt=\"Open In Colab\"/></a>"
      ]
    },
    {
      "cell_type": "code",
      "execution_count": null,
      "metadata": {
        "id": "XdbS9FU37tV0"
      },
      "outputs": [],
      "source": [
        "!pip install tensorflow==2.10 keras==2.10 sciann\n",
        "!pip install -q condacolab"
      ]
    },
    {
      "cell_type": "code",
      "source": [
        "import condacolab\n",
        "condacolab.install()\n",
        "!conda config --add channels conda-forge\n",
        "!conda config --add channels nvidia\n",
        "!conda install -c conda-forge cudatoolkit=11.2 cudnn=8.1.0"
      ],
      "metadata": {
        "id": "AbP8la4u74jQ"
      },
      "execution_count": null,
      "outputs": []
    },
    {
      "cell_type": "code",
      "source": [
        "import numpy as np\n",
        "import matplotlib.pyplot as plt\n",
        "import sciann as sn\n",
        "from sciann.utils.math import diff, sign, sin"
      ],
      "metadata": {
        "id": "_OyDaESh77a-"
      },
      "execution_count": null,
      "outputs": []
    },
    {
      "cell_type": "code",
      "source": [
        "w0 = 20\n",
        "sigma = 2 # under-damped: sigma < w0\n",
        "w = np.sqrt(w0**2 - sigma**2)\n",
        "phi = np.arctan(-(0+ sigma)/w)\n",
        "A = 1/(2*np.cos(phi))\n",
        "def func_x(t):\n",
        " return np.exp(-sigma*t) *2*A*np.cos(w*t+phi )\n",
        "t_data = np.linspace (0 ,1 ,15) # 15 cap (t,x)\n",
        "x_data = func_x(t_data )"
      ],
      "metadata": {
        "id": "7vLIhfVX77wQ"
      },
      "execution_count": null,
      "outputs": []
    },
    {
      "cell_type": "code",
      "source": [
        "t = sn.Variable ('t') # dau vao\n",
        "x = sn.Field ('x') # dau ra\n",
        "x = sn.Functional (\n",
        "    fields =[x],\n",
        "    variables =[t],\n",
        "    hidden_layers =8*[20] , # mang than kinh 8*20\n",
        "    activation ='sin') # ham kich hoat"
      ],
      "metadata": {
        "id": "FqvXbqpN79gL"
      },
      "execution_count": null,
      "outputs": []
    },
    {
      "cell_type": "code",
      "source": [
        "x_t = diff(x, t)\n",
        "x_tt = diff(x, t, order =2)\n",
        "ode = 1e-4*(x_tt + 2* sigma *x_t + (w0 **2) *x) # ODE\n",
        "# dieu kien ban dau\n",
        "TOL = 1e-6;\n",
        "x0 = (1 - sign(t - TOL))*(x -1)\n",
        "v0 = (1 - sign(t - TOL))*(x_t -0)"
      ],
      "metadata": {
        "id": "rk2p_m_N-z6s"
      },
      "execution_count": null,
      "outputs": []
    },
    {
      "cell_type": "code",
      "source": [
        "t_train = np.linspace (0 ,3 ,100) # mien thoi gian huan luyen\n",
        "m = sn.SciModel([t], [sn.PDE( ode), x0 , v0], loss_func ='mse', optimizer='adam')\n",
        "h = m.train(\n",
        "    [ t_train ],\n",
        "     [0, 0, 0],\n",
        "    epochs =10000,\n",
        "    adaptive_weights =100,\n",
        "    learning_rate =1e-3,\n",
        "    batch_size =50,\n",
        "    verbose =1)\n",
        "plt.semilogy(h.history['loss']) # ve do thi Loss vs Epoch\n",
        "plt.xlabel('Epoch')\n",
        "plt.ylabel('Loss')\n",
        "plt.show()"
      ],
      "metadata": {
        "id": "ZOJUI2g2-97_"
      },
      "execution_count": null,
      "outputs": []
    },
    {
      "cell_type": "code",
      "source": [
        "t_plot = np.linspace(0,3,5000)\n",
        "x_plot = func_x(t_plot)\n",
        "plt.plot (t_plot, x_plot, label='Exact solution ')\n",
        "t_pred = np.linspace(0,3,100) # mien thoi gian cho du doan\n",
        "x_pred = x.eval([t_pred]) # x du doan\n",
        "plt.plot(t_pred, x_pred , label='SciANN prediction ')\n",
        "plt.xlabel ('$t ~[s]$')\n",
        "plt.ylabel ('$x ~[m]$')\n",
        "plt.legend ()\n",
        "plt.show ()"
      ],
      "metadata": {
        "id": "sCd7xBF8_1VP"
      },
      "execution_count": null,
      "outputs": []
    }
  ]
}