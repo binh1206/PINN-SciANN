{
  "nbformat": 4,
  "nbformat_minor": 0,
  "metadata": {
    "colab": {
      "private_outputs": true,
      "provenance": [],
      "gpuType": "T4",
      "authorship_tag": "ABX9TyPtQu0+cDa41xWevmWEV7sk",
      "include_colab_link": true
    },
    "kernelspec": {
      "name": "python3",
      "display_name": "Python 3"
    },
    "language_info": {
      "name": "python"
    },
    "accelerator": "GPU"
  },
  "cells": [
    {
      "cell_type": "markdown",
      "metadata": {
        "id": "view-in-github",
        "colab_type": "text"
      },
      "source": [
        "<a href=\"https://colab.research.google.com/github/binh1206/PINN-SciANN/blob/main/DampedHarmonicOscillator/Inverse.ipynb\" target=\"_parent\"><img src=\"https://colab.research.google.com/assets/colab-badge.svg\" alt=\"Open In Colab\"/></a>"
      ]
    },
    {
      "cell_type": "code",
      "execution_count": null,
      "metadata": {
        "id": "SBYtj_1nDAxI"
      },
      "outputs": [],
      "source": [
        "!pip install tensorflow==2.10 keras==2.10 sciann\n",
        "!pip install -q condacolab"
      ]
    },
    {
      "cell_type": "code",
      "source": [
        "import condacolab\n",
        "condacolab.install ()\n",
        "!conda config --add channels conda-forge\n",
        "!conda install -c conda-forge cudatoolkit=11.2 cudnn=8.1.0"
      ],
      "metadata": {
        "id": "erB51x_mDXk5"
      },
      "execution_count": null,
      "outputs": []
    },
    {
      "cell_type": "code",
      "source": [
        "import numpy as np\n",
        "import matplotlib . pyplot as plt\n",
        "import sciann as sn\n",
        "from sciann.utils.math import diff, sign, sin"
      ],
      "metadata": {
        "id": "TPM-6zR8DhQK"
      },
      "execution_count": null,
      "outputs": []
    },
    {
      "cell_type": "code",
      "source": [
        "w0 = 20\n",
        "sigma = 2 # under-damped sigma < w0\n",
        "w = np.sqrt(w0**2 - sigma**2)\n",
        "phi = np.arctan(-(0+sigma)/w)\n",
        "A = 1/(2*np.cos(phi))\n",
        "def func_x(t):\n",
        "  return np.exp(-sigma*t)*2*A*np.cos(w*t+phi) # nghiem chuan\n",
        "# khoi tao bo du lieu:\n",
        "t_data = np.linspace(0,0.8,100) # 100 datapoints\n",
        "x_data = func_x(t_data)"
      ],
      "metadata": {
        "id": "xM8GB4sZDrfJ"
      },
      "execution_count": null,
      "outputs": []
    },
    {
      "cell_type": "code",
      "source": [
        "t = sn.Variable('t') # dau vao\n",
        "x = sn.Field('x') # dau ra\n",
        "x = sn.Functional(\n",
        "    fields=[x],\n",
        "    variables=[t],\n",
        "    hidden_layers=8*[20], # mang than kinh 8*20\n",
        "    activation='sin') # ham kich hoat"
      ],
      "metadata": {
        "id": "-ccWCBLvEi_7"
      },
      "execution_count": null,
      "outputs": []
    },
    {
      "cell_type": "code",
      "source": [
        "np.random.seed(20)\n",
        "# sigma can tim:\n",
        "sigma_ = sn.Parameter(np.random.rand(), inputs=[t], name='sigma_')\n",
        "print(f'initial sigma_ = {sigma_.value}')\n",
        "x_t = diff(x, t)\n",
        "x_tt = diff(x, t, order=2)\n",
        "ode = (x_tt + 2*sigma*x_t + (20**2)*x) # ODE"
      ],
      "metadata": {
        "id": "mlwYnwAUE46d"
      },
      "execution_count": null,
      "outputs": []
    },
    {
      "cell_type": "code",
      "source": [
        "m = sn.SciModel([t], [x, ode], loss_func='mse', optimizer='adam')\n",
        "h = m.train(\n",
        "    [t_data],\n",
        "    [x_data, 'zeros'],\n",
        "    epochs=10000,\n",
        "    adaptive_weights=100,\n",
        "    learning_rate=1e-2,\n",
        "    batch_size=50,\n",
        "    verbose=1)\n",
        "# ve do thi Loss vs Epoch\n",
        "plt.semilogy(h.history['loss'])\n",
        "plt.xlabel('Epoch')\n",
        "plt.ylabel('Loss')\n",
        "plt.show()"
      ],
      "metadata": {
        "id": "jv5gR_o7E9Pt"
      },
      "execution_count": null,
      "outputs": []
    },
    {
      "cell_type": "code",
      "source": [
        "print('sigma is identified by SciANN = {}'.format(sigma_.value))\n",
        "percent_err = np.abs(sigma_.value - sigma)/(sigma_.value)*100\n",
        "print(f'error(%) = {percent_err}')"
      ],
      "metadata": {
        "id": "b_YyUcEmFAJn"
      },
      "execution_count": null,
      "outputs": []
    }
  ]
}